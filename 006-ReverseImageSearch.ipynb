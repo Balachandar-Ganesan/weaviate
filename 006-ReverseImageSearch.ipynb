{
 "cells": [
  {
   "cell_type": "code",
   "execution_count": null,
   "id": "92ad86ac",
   "metadata": {},
   "outputs": [],
   "source": [
    "pip install imgbeddings"
   ]
  },
  {
   "cell_type": "code",
   "execution_count": 4,
   "id": "2797c5b8",
   "metadata": {},
   "outputs": [],
   "source": [
    "def VectorOfImage(strURL):\n",
    "    import requests\n",
    "    from PIL import Image\n",
    "    url = strURL\n",
    "    image = Image.open(requests.get(url, stream=True).raw)\n",
    "    from imgbeddings import imgbeddings\n",
    "    ibed = imgbeddings()\n",
    "    embedding = ibed.to_embeddings(image)\n",
    "    #query_vector=list(embedding.flatten())\n",
    "    vector = embedding.flatten().tolist()\n",
    "    return vector"
   ]
  },
  {
   "cell_type": "code",
   "execution_count": 5,
   "id": "918f3ecf",
   "metadata": {},
   "outputs": [],
   "source": [
    "import weaviate\n",
    "import weaviate.classes as wvc\n",
    "import requests\n",
    "import json"
   ]
  },
  {
   "cell_type": "code",
   "execution_count": 6,
   "id": "a6b1a5c6",
   "metadata": {},
   "outputs": [],
   "source": [
    "client = weaviate.connect_to_wcs(\n",
    "    cluster_url=\"\",\n",
    "    auth_credentials=weaviate.auth.AuthApiKey(\"\")\n",
    "    \n",
    ")"
   ]
  },
  {
   "cell_type": "code",
   "execution_count": 7,
   "id": "664dab3c",
   "metadata": {},
   "outputs": [
    {
     "data": {
      "text/plain": [
       "True"
      ]
     },
     "execution_count": 7,
     "metadata": {},
     "output_type": "execute_result"
    }
   ],
   "source": [
    "client.is_ready()"
   ]
  },
  {
   "cell_type": "code",
   "execution_count": null,
   "id": "f45fb1c8",
   "metadata": {},
   "outputs": [],
   "source": [
    "import weaviate.classes.config as wc\n",
    "from weaviate.classes.config import Configure, Property, DataType\n",
    "client.collections.create(\n",
    "    name=\"imagesearch\",\n",
    "    properties=[\n",
    "        wc.Property(name=\"imgsource\", data_type=wc.DataType.TEXT),\n",
    "        \n",
    "    ],\n",
    "    # Define the vectorizer module (none, as we will add our own vectors)\n",
    "    vectorizer_config=wc.Configure.Vectorizer.none(),\n",
    "    vector_index_config=Configure.VectorIndex.hnsw(),\n",
    ")"
   ]
  },
  {
   "cell_type": "code",
   "execution_count": null,
   "id": "e62438eb",
   "metadata": {},
   "outputs": [],
   "source": [
    "\n",
    "import time\n",
    "t0 = time.time()\n",
    "imgSources=[\n",
    "'https://cdn.nba.com/manage/2021/08/michael-jordan-celebrates-archive.jpg',\n",
    "'https://etimg.etb2bimg.com/photo/99593616.cms',\n",
    "'https://asiasociety.org/sites/default/files/styles/1200w/public/1/150914_Manny_Pacquiao_Asia_Game_Changer.jpg',\n",
    "'https://cdn.britannica.com/00/182400-050-BCFF616B/Manny-Pacquiao-2011.jpg'\n",
    "]\n",
    "DocumentSearch = client.collections.get(\"imagesearch\")\n",
    "with DocumentSearch.batch.dynamic() as batch:\n",
    "    for i in range(0, 3): \n",
    "        properties = {\"imgsource\": imgSources[i]}\n",
    "        vector=VectorOfImage(imgSources[i])\n",
    "        batch.add_object(properties,vector=vector)\n",
    "t1 = time.time()\n",
    "total = t1-t0\n",
    "print(total)  "
   ]
  },
  {
   "cell_type": "code",
   "execution_count": 15,
   "id": "acbb3a40",
   "metadata": {},
   "outputs": [],
   "source": [
    "def imageSearch(strURL):\n",
    "    import weaviate.classes.query as wq\n",
    "    query_text = strURL\n",
    " \n",
    "    query_vector= VectorOfImage(strURL)\n",
    "    \n",
    "    DocumentSearch= client.collections.get(\"Imagesearch\")\n",
    "    response = DocumentSearch.query.near_vector(\n",
    "    near_vector=query_vector,  # A list of floating point numbers\n",
    "    limit=5,\n",
    "    return_metadata=wq.MetadataQuery(distance=True),\n",
    "    )\n",
    "    for o in response.objects:\n",
    "        print(\n",
    "        o.properties[\"imgsource\"] \n",
    "    )  \n",
    "        print(\n",
    "        f\"Distance to query: {o.metadata.distance:.3f}\\n\"\n",
    "    )  # P"
   ]
  },
  {
   "cell_type": "code",
   "execution_count": 23,
   "id": "eb44be1f",
   "metadata": {},
   "outputs": [
    {
     "name": "stdout",
     "output_type": "stream",
     "text": [
      "i\n",
      "PacMan Manny Pacquio\n",
      "https://etimg.etb2bimg.com/photo/99593616.cms\n",
      "Distance to query: 0.000\n",
      "\n",
      "https://cdn.nba.com/manage/2021/08/michael-jordan-celebrates-archive.jpg\n",
      "Distance to query: 0.128\n",
      "\n",
      "https://asiasociety.org/sites/default/files/styles/1200w/public/1/150914_Manny_Pacquiao_Asia_Game_Changer.jpg\n",
      "Distance to query: 0.141\n",
      "\n",
      "i\n",
      "MJ Michael Jordan\n",
      "https://etimg.etb2bimg.com/photo/99593616.cms\n",
      "Distance to query: 0.000\n",
      "\n",
      "https://cdn.nba.com/manage/2021/08/michael-jordan-celebrates-archive.jpg\n",
      "Distance to query: 0.128\n",
      "\n",
      "https://asiasociety.org/sites/default/files/styles/1200w/public/1/150914_Manny_Pacquiao_Asia_Game_Changer.jpg\n",
      "Distance to query: 0.141\n",
      "\n",
      "Time Taken\n",
      "5.572869539260864\n"
     ]
    }
   ],
   "source": [
    "imgSources=[\n",
    "'https://etimg.etb2bimg.com/photo/99593616.cms',\n",
    "'https://etimg.etb2bimg.com/photo/99593616.cms'\n",
    "\n",
    "]\n",
    "PlayerList =['MJ Michael Jordan','PacMan Manny Pacquio']\n",
    "import time\n",
    "\n",
    "t0 = time.time()\n",
    "\n",
    "for i in range(0, 2): \n",
    "        print('i')\n",
    "        print(PlayerList[i-1])\n",
    "        imageSearch(imgSources[i-1])\n",
    "t1 = time.time()\n",
    "total = t1-t0\n",
    "print('Time Taken')\n",
    "print(total)  \n"
   ]
  },
  {
   "cell_type": "code",
   "execution_count": null,
   "id": "1d392c49",
   "metadata": {},
   "outputs": [],
   "source": []
  }
 ],
 "metadata": {
  "kernelspec": {
   "display_name": "Python 3 (ipykernel)",
   "language": "python",
   "name": "python3"
  },
  "language_info": {
   "codemirror_mode": {
    "name": "ipython",
    "version": 3
   },
   "file_extension": ".py",
   "mimetype": "text/x-python",
   "name": "python",
   "nbconvert_exporter": "python",
   "pygments_lexer": "ipython3",
   "version": "3.11.5"
  }
 },
 "nbformat": 4,
 "nbformat_minor": 5
}
