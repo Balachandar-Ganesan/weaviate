{
 "cells": [
  {
   "cell_type": "code",
   "execution_count": null,
   "id": "57ee8090",
   "metadata": {},
   "outputs": [],
   "source": [
    "!pip install -U weaviate-client"
   ]
  },
  {
   "cell_type": "code",
   "execution_count": null,
   "id": "f73849c1",
   "metadata": {},
   "outputs": [],
   "source": [
    "!pip install Spacy"
   ]
  },
  {
   "cell_type": "code",
   "execution_count": null,
   "id": "78428e55",
   "metadata": {},
   "outputs": [],
   "source": [
    "import sys\n",
    "!{sys.executable} -m spacy download en"
   ]
  },
  {
   "cell_type": "code",
   "execution_count": 1,
   "id": "9afa3fbf",
   "metadata": {},
   "outputs": [],
   "source": [
    "import spacy\n",
    "nlp = spacy.load('en_core_web_sm')\n"
   ]
  },
  {
   "cell_type": "code",
   "execution_count": null,
   "id": "04d462ff",
   "metadata": {},
   "outputs": [],
   "source": [
    "!pip install faker\n",
    "!pip install nltk\n",
    "!pip install gensim"
   ]
  },
  {
   "cell_type": "code",
   "execution_count": 53,
   "id": "5efa2153",
   "metadata": {},
   "outputs": [],
   "source": [
    "import weaviate\n",
    "import weaviate.classes as wvc\n",
    "import requests\n",
    "import json\n"
   ]
  },
  {
   "cell_type": "code",
   "execution_count": null,
   "id": "990baa79",
   "metadata": {},
   "outputs": [],
   "source": []
  },
  {
   "cell_type": "code",
   "execution_count": 54,
   "id": "83c49ec0",
   "metadata": {},
   "outputs": [],
   "source": [
    "client = weaviate.connect_to_wcs(\n",
    "    cluster_url=\"\",\n",
    "    auth_credentials=weaviate.auth.AuthApiKey(\"\")\n",
    "    \n",
    ")\n"
   ]
  },
  {
   "cell_type": "code",
   "execution_count": 55,
   "id": "54f73427",
   "metadata": {},
   "outputs": [
    {
     "data": {
      "text/plain": [
       "True"
      ]
     },
     "execution_count": 55,
     "metadata": {},
     "output_type": "execute_result"
    }
   ],
   "source": [
    "client.is_ready()"
   ]
  },
  {
   "cell_type": "code",
   "execution_count": 10,
   "id": "5067bab3",
   "metadata": {},
   "outputs": [
    {
     "data": {
      "text/plain": [
       "<weaviate.collections.collection.Collection at 0x263a1098090>"
      ]
     },
     "execution_count": 10,
     "metadata": {},
     "output_type": "execute_result"
    }
   ],
   "source": [
    "import weaviate.classes.config as wc\n",
    "from weaviate.classes.config import Configure, Property, DataType\n",
    "client.collections.create(\n",
    "    name=\"NameSearch\",\n",
    "    properties=[\n",
    "        wc.Property(name=\"PersonName\", data_type=wc.DataType.TEXT),\n",
    "        \n",
    "    ],\n",
    "    # Define the vectorizer module (none, as we will add our own vectors)\n",
    "    vectorizer_config=wc.Configure.Vectorizer.none(),\n",
    "    vector_index_config=Configure.VectorIndex.hnsw(),\n",
    ")"
   ]
  },
  {
   "cell_type": "code",
   "execution_count": 11,
   "id": "a4a989e3",
   "metadata": {},
   "outputs": [
    {
     "name": "stdout",
     "output_type": "stream",
     "text": [
      "Stacey Brady\n",
      "575.4583711624146\n"
     ]
    }
   ],
   "source": [
    "from faker import Faker  \n",
    "import spacy\n",
    "nlp = spacy.load('en_core_web_sm')\n",
    "import time\n",
    "\n",
    "t0 = time.time()\n",
    "\n",
    "fake = Faker()  \n",
    "DocumentSearch = client.collections.get(\"NameSearch\")\n",
    "with DocumentSearch.batch.dynamic() as batch:\n",
    "    for i in range(0, 100000): \n",
    "        fakename =fake.name()\n",
    "        if (i==1):\n",
    "            print(fakename)  \n",
    "        properties = {\"personName\": fakename}\n",
    "        nlpdoc = nlp(fakename)\n",
    "        vector=nlpdoc.vector\n",
    "        batch.add_object(properties,vector=vector)\n",
    "t1 = time.time()\n",
    "total = t1-t0\n",
    "print(total)  "
   ]
  },
  {
   "cell_type": "code",
   "execution_count": 41,
   "id": "49c18e49",
   "metadata": {},
   "outputs": [
    {
     "name": "stdout",
     "output_type": "stream",
     "text": [
      "Stacey Brady\n",
      "Distance to query: -0.000\n",
      "\n",
      "Stacey Patterson\n",
      "Distance to query: 0.050\n",
      "\n",
      "Stacey Garcia\n",
      "Distance to query: 0.056\n",
      "\n",
      "Stacey Frank\n",
      "Distance to query: 0.063\n",
      "\n",
      "Stacey Nelson\n",
      "Distance to query: 0.064\n",
      "\n",
      "Time Taken\n",
      "0.611290454864502\n"
     ]
    }
   ],
   "source": [
    "import weaviate.classes.query as wq\n",
    "query_text = \"Stacey Brady\"\n",
    "import time\n",
    "doc = nlp(query_text)\n",
    "query_vector= list(doc.vector)\n",
    "# Get the collection\n",
    "SkillSet= client.collections.get(\"NameSearch\")\n",
    "\n",
    "\n",
    "t0 = time.time()\n",
    "# Perform query\n",
    "response = SkillSet.query.near_vector(\n",
    "    near_vector=query_vector,  # A list of floating point numbers\n",
    "    limit=5,\n",
    "    return_metadata=wq.MetadataQuery(distance=True),\n",
    ")\n",
    "\n",
    "# Inspect the response\n",
    "for o in response.objects:\n",
    "    print(\n",
    "        o.properties[\"personName\"] \n",
    "    )  \n",
    "    print(\n",
    "        f\"Distance to query: {o.metadata.distance:.3f}\\n\"\n",
    "    )  # P\n",
    "t1 = time.time()\n",
    "total = t1-t0\n",
    "print('Time Taken')\n",
    "print(total)  "
   ]
  },
  {
   "cell_type": "code",
   "execution_count": 63,
   "id": "e999b258",
   "metadata": {},
   "outputs": [
    {
     "data": {
      "text/plain": [
       "<weaviate.collections.collection.Collection at 0x263f5e87cd0>"
      ]
     },
     "execution_count": 63,
     "metadata": {},
     "output_type": "execute_result"
    }
   ],
   "source": [
    "import weaviate.classes.config as wc\n",
    "from weaviate.classes.config import Configure, Property, DataType\n",
    "client.collections.create(\n",
    "    name=\"SimpleVectorNameSearch\",\n",
    "    properties=[\n",
    "        wc.Property(name=\"PersonName\", data_type=wc.DataType.TEXT),\n",
    "        \n",
    "    ],\n",
    "    # Define the vectorizer module (none, as we will add our own vectors)\n",
    "    vectorizer_config=wc.Configure.Vectorizer.none(),\n",
    "    vector_index_config=Configure.VectorIndex.hnsw(),\n",
    ")"
   ]
  },
  {
   "cell_type": "code",
   "execution_count": 64,
   "id": "4507b9d3",
   "metadata": {},
   "outputs": [],
   "source": [
    "def VectorElement(word):\n",
    "    ListAlphabets = ['A','B','C','D','E','F','G','H','I','J','K','L','M','N','O','P','Q','R','S','T','U','V','W','X','Y','Z']\n",
    "    ListVectors=[0,0,0,0,0,0,0,0,0,0,0,0,0,0,0,0,0,0,0,0,0,0,0,0,0,0]\n",
    "    count = 0\n",
    "    while count < 26:\n",
    "        ListVectors[count]= sum(1 for element in word if element.lower()==ListAlphabets[count].lower())\n",
    "        count =count+1\n",
    "    return ListVectors"
   ]
  },
  {
   "cell_type": "code",
   "execution_count": 65,
   "id": "6458c7db",
   "metadata": {},
   "outputs": [
    {
     "name": "stdout",
     "output_type": "stream",
     "text": [
      "Anthony Heath\n",
      "74.02804684638977\n"
     ]
    }
   ],
   "source": [
    "from faker import Faker  \n",
    "import time\n",
    "\n",
    "t0 = time.time()\n",
    "\n",
    "fake = Faker()  \n",
    "DocumentSearch = client.collections.get(\"SimpleVectorNameSearch\")\n",
    "with DocumentSearch.batch.dynamic() as batch:\n",
    "    for i in range(0, 100000): \n",
    "        fakename =fake.name()\n",
    "        if (i==1):\n",
    "            print(fakename)  \n",
    "        properties = {\"personName\": fakename}\n",
    "        vector=VectorElement(fakename)\n",
    "        batch.add_object(properties,vector=vector)\n",
    "t1 = time.time()\n",
    "total = t1-t0\n",
    "print(total)  "
   ]
  },
  {
   "cell_type": "code",
   "execution_count": 66,
   "id": "067760cb",
   "metadata": {},
   "outputs": [
    {
     "name": "stdout",
     "output_type": "stream",
     "text": [
      "Anthony Heath\n",
      "Distance to query: 0.000\n",
      "\n",
      "Heather Anthony\n",
      "Distance to query: 0.036\n",
      "\n",
      "Tony Hahn\n",
      "Distance to query: 0.057\n",
      "\n",
      "Anthony Shea\n",
      "Distance to query: 0.059\n",
      "\n",
      "Anthony Hahn\n",
      "Distance to query: 0.061\n",
      "\n",
      "Time Taken\n",
      "0.6620504856109619\n"
     ]
    }
   ],
   "source": [
    "import weaviate.classes.query as wq\n",
    "query_text = \"Anthony Heath\"\n",
    "import time\n",
    "query_vector= VectorElement(query_text)\n",
    "# Get the collection\n",
    "SkillSet= client.collections.get(\"SimpleVectorNameSearch\")\n",
    "\n",
    "\n",
    "t0 = time.time()\n",
    "# Perform query\n",
    "response = SkillSet.query.near_vector(\n",
    "    near_vector=query_vector,  # A list of floating point numbers\n",
    "    limit=5,\n",
    "    return_metadata=wq.MetadataQuery(distance=True),\n",
    ")\n",
    "\n",
    "# Inspect the response\n",
    "for o in response.objects:\n",
    "    print(\n",
    "        o.properties[\"personName\"] \n",
    "    )  \n",
    "    print(\n",
    "        f\"Distance to query: {o.metadata.distance:.3f}\\n\"\n",
    "    )  # P\n",
    "t1 = time.time()\n",
    "total = t1-t0\n",
    "print('Time Taken')\n",
    "print(total)  "
   ]
  },
  {
   "cell_type": "code",
   "execution_count": null,
   "id": "0360d5b2",
   "metadata": {},
   "outputs": [],
   "source": []
  }
 ],
 "metadata": {
  "kernelspec": {
   "display_name": "Python 3 (ipykernel)",
   "language": "python",
   "name": "python3"
  },
  "language_info": {
   "codemirror_mode": {
    "name": "ipython",
    "version": 3
   },
   "file_extension": ".py",
   "mimetype": "text/x-python",
   "name": "python",
   "nbconvert_exporter": "python",
   "pygments_lexer": "ipython3",
   "version": "3.11.5"
  }
 },
 "nbformat": 4,
 "nbformat_minor": 5
}
