{
 "cells": [
  {
   "cell_type": "code",
   "execution_count": null,
   "id": "f79a3928",
   "metadata": {},
   "outputs": [],
   "source": [
    "!pip install faker"
   ]
  },
  {
   "cell_type": "code",
   "execution_count": null,
   "id": "687d1361",
   "metadata": {},
   "outputs": [],
   "source": [
    "from faker import Faker  \n",
    "fake = Faker()  \n",
    "for i in range(0, 10):  \n",
    "            print(fake.name())  "
   ]
  },
  {
   "cell_type": "code",
   "execution_count": null,
   "id": "cdce2c52",
   "metadata": {},
   "outputs": [],
   "source": [
    "import numpy as np\n",
    "import spacy\n",
    "nlp = spacy.load('en_core_web_sm')\n",
    "nlpdoc = nlp( \"#SQLServer Oracle PowerBI#\")\n",
    "#nlpdoc = nlp(\"skcirbataD\")\n",
    "vector1=list(nlpdoc.vector)\n",
    "nlpdoc = nlp( \"#Databricks#\")\n",
    "vector2=list(nlpdoc.vector)\n",
    "\n",
    "Euclideandistance1=sum(list(map(lambda x, y: (x - y) ** 2, vector1, vector2))) ** 0.5\n",
    " \n",
    "\n",
    "Euclideandistance2=np.linalg.norm((np.array(vector1) - np.array(vector2)), ord = 2)\n",
    "print(Euclideandistance1)\n",
    "                       \n",
    "print(Euclideandistance2)\n",
    "\n",
    "ManhattanDistance1=sum(list(map(lambda x, y: abs(x - y), vector1, vector2)))\n",
    "\n",
    "\n",
    "ManhattanDistance2=np.linalg.norm((np.array(vector1) - np.array(vector2)), ord = 1)\n",
    "print(ManhattanDistance1)\n",
    "                       \n",
    "print(ManhattanDistance1)\n",
    "DotProductDistance =np.dot(vector1, vector2)\n",
    "print(DotProductDistance)\n",
    "\n",
    "from sklearn.metrics.pairwise import cosine_similarity\n",
    "\n",
    "CosineSimilarityDistance=cosine_similarity(\n",
    "  np.array(vector1).reshape(1, -1), \n",
    "  np.array(vector2).reshape(1, -1))[0][0]\n",
    "print(CosineSimilarityDistance)\n"
   ]
  },
  {
   "cell_type": "code",
   "execution_count": null,
   "id": "92893262",
   "metadata": {},
   "outputs": [],
   "source": [
    "0.52446693,0.45342135,0.41769722,0.3468207,0.31686383"
   ]
  },
  {
   "cell_type": "code",
   "execution_count": null,
   "id": "0a095ed8",
   "metadata": {},
   "outputs": [],
   "source": [
    "dot_product = np.dot(vector1, vector2)\n",
    "magnitude_B = np.linalg.norm(vector1)\n",
    "magnitude_A = np.linalg.norm(vector2)\n",
    "\n",
    "cosine_similarity = dot_product / (magnitude_A * magnitude_B)\n",
    "print(f\"Cosine Similarity using NumPy: {cosine_similarity}\")"
   ]
  },
  {
   "cell_type": "code",
   "execution_count": null,
   "id": "e1bf9548",
   "metadata": {},
   "outputs": [],
   "source": []
  }
 ],
 "metadata": {
  "kernelspec": {
   "display_name": "Python 3 (ipykernel)",
   "language": "python",
   "name": "python3"
  },
  "language_info": {
   "codemirror_mode": {
    "name": "ipython",
    "version": 3
   },
   "file_extension": ".py",
   "mimetype": "text/x-python",
   "name": "python",
   "nbconvert_exporter": "python",
   "pygments_lexer": "ipython3",
   "version": "3.11.5"
  }
 },
 "nbformat": 4,
 "nbformat_minor": 5
}
