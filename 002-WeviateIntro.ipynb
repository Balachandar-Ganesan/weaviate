{
 "cells": [
  {
   "cell_type": "code",
   "execution_count": null,
   "id": "57ee8090",
   "metadata": {},
   "outputs": [],
   "source": [
    "!pip install -U weaviate-client"
   ]
  },
  {
   "cell_type": "code",
   "execution_count": null,
   "id": "f73849c1",
   "metadata": {},
   "outputs": [],
   "source": [
    "!pip install Spacy"
   ]
  },
  {
   "cell_type": "code",
   "execution_count": null,
   "id": "78428e55",
   "metadata": {},
   "outputs": [],
   "source": [
    "import sys\n",
    "!{sys.executable} -m spacy download en"
   ]
  },
  {
   "cell_type": "code",
   "execution_count": null,
   "id": "9afa3fbf",
   "metadata": {},
   "outputs": [],
   "source": [
    "import spacy\n",
    "nlp = spacy.load('en_core_web_sm')\n"
   ]
  },
  {
   "cell_type": "code",
   "execution_count": 4,
   "id": "5efa2153",
   "metadata": {},
   "outputs": [],
   "source": [
    "import weaviate\n",
    "import weaviate.classes as wvc\n",
    "import requests\n",
    "import json\n"
   ]
  },
  {
   "cell_type": "code",
   "execution_count": null,
   "id": "990baa79",
   "metadata": {},
   "outputs": [],
   "source": []
  },
  {
   "cell_type": "code",
   "execution_count": 5,
   "id": "83c49ec0",
   "metadata": {},
   "outputs": [],
   "source": [
    "client = weaviate.connect_to_wcs(\n",
    "    cluster_url=\"\",\n",
    "    auth_credentials=weaviate.auth.AuthApiKey(\"\")\n",
    "    \n",
    ")\n"
   ]
  },
  {
   "cell_type": "code",
   "execution_count": 26,
   "id": "54f73427",
   "metadata": {},
   "outputs": [
    {
     "data": {
      "text/plain": [
       "True"
      ]
     },
     "execution_count": 26,
     "metadata": {},
     "output_type": "execute_result"
    }
   ],
   "source": [
    "client.is_ready()"
   ]
  },
  {
   "cell_type": "code",
   "execution_count": 82,
   "id": "737b24d1",
   "metadata": {},
   "outputs": [
    {
     "data": {
      "text/plain": [
       "<weaviate.collections.collection.Collection at 0x1896ac51610>"
      ]
     },
     "execution_count": 82,
     "metadata": {},
     "output_type": "execute_result"
    }
   ],
   "source": [
    "import weaviate.classes.config as wc\n",
    "from weaviate.classes.config import Configure, Property, DataType\n",
    "client.collections.create(\n",
    "    name=\"DocumentSearch\",\n",
    "    properties=[\n",
    "        wc.Property(name=\"DocText\", data_type=wc.DataType.TEXT),\n",
    "        \n",
    "    ],\n",
    "    # Define the vectorizer module (none, as we will add our own vectors)\n",
    "    vectorizer_config=wc.Configure.Vectorizer.none(),\n",
    "    vector_index_config=Configure.VectorIndex.hnsw(),\n",
    ")"
   ]
  },
  {
   "cell_type": "code",
   "execution_count": 83,
   "id": "e8921867",
   "metadata": {},
   "outputs": [],
   "source": [
    "documents = [\n",
    "    \"SQLServer Oracle PowerBI\",\n",
    "    \"SQLServer PowerBI Tableau\",\n",
    "    \"Tableau Qlikview\",\n",
    "    \"Qlikview SnowFlake\",\n",
    "    \"Databricks Azure Data Factory\"\n",
    "     ]\n",
    "DocumentSearch = client.collections.get(\"DocumentSearch\")\n",
    "with DocumentSearch.batch.dynamic() as batch:\n",
    "    for i, doc in enumerate(documents):\n",
    "        properties = {\"DocText\": doc}\n",
    "        nlpdoc = nlp(doc)\n",
    "        vector=list(nlpdoc.vector)\n",
    "        batch.add_object(properties,vector=vector)"
   ]
  },
  {
   "cell_type": "code",
   "execution_count": 84,
   "id": "9f616fe3",
   "metadata": {},
   "outputs": [
    {
     "name": "stdout",
     "output_type": "stream",
     "text": [
      "{'docText': 'SQLServer PowerBI Tableau'}\n",
      "{'default': [-0.7119714617729187, -0.7853469848632812, -0.41044583916664124, 0.27732303738594055, 0.03868657350540161, 0.2699478566646576, 0.02681412361562252, 0.46695324778556824, 0.27723070979118347, 0.20080383121967316, 1.4129939079284668, 0.24312908947467804, -0.918041467666626, 0.12339284271001816, -0.2344948649406433, -0.15067504346370697, -0.7487204670906067, -0.641111433506012, 0.26169803738594055, -0.6851611733436584, -0.26942917704582214, 0.4357844293117523, -0.07673146575689316, -0.34012940526008606, -0.150448739528656, -0.26242515444755554, 0.14353758096694946, 0.9521039128303528, -0.07850106805562973, 0.8715438842773438, -0.7697744965553284, -0.3942698538303375, 1.0104953050613403, -0.1342553347349167, 0.047489702701568604, 1.0428133010864258, -0.1483791619539261, 0.48117196559906006, -0.4045431911945343, 0.698009192943573, -0.33272048830986023, -0.3470068871974945, -0.9996738433837891, 0.4559503495693207, -0.8345726132392883, -0.07667282968759537, -0.07747751474380493, 0.5655251145362854, -0.1568274348974228, -0.4700796902179718, 0.23837804794311523, 0.3376372754573822, 0.4175129234790802, 0.18364427983760834, -0.5638321042060852, -0.14639835059642792, 0.32005298137664795, -0.5729855895042419, 0.9789474010467529, 0.23323123157024384, -1.3303020000457764, -0.373210072517395, 0.7629671096801758, 0.1445898413658142, 0.8164356350898743, 0.3052576780319214, -0.5363665819168091, -0.9728681445121765, 0.18208622932434082, -0.4655744135379791, -0.06506209075450897, 0.31843018531799316, 0.3190641403198242, -0.4383038580417633, 0.6821867823600769, 0.04215245321393013, 0.11814948171377182, -0.02444336749613285, 0.2477596253156662, -0.18192070722579956, 0.12783390283584595, -1.1772695779800415, -0.2687709331512451, -1.0009214878082275, 1.2296348810195923, 0.2705051600933075, 0.13110531866550446, 0.10272824764251709, -0.43110787868499756, 1.3051133155822754, -0.4484895169734955, -0.001488546491600573, 0.8926234841346741, 0.21599061787128448, 0.17178583145141602, 0.4448052942752838]}\n",
      "{'docText': 'Qlikview SnowFlake'}\n",
      "{'default': [-0.8692803978919983, -1.2522401809692383, 0.5525250434875488, 0.9107866287231445, -0.050938963890075684, 0.14994093775749207, 0.43748974800109863, 0.818988025188446, -0.16257141530513763, 0.09473907947540283, 1.772829294204712, 0.9506538510322571, -1.2128441333770752, -0.8976781964302063, -0.9202388525009155, -0.1891864687204361, -0.3299974501132965, 0.17715154588222504, -0.25794848799705505, -0.17378157377243042, -0.6509526968002319, -0.6286700367927551, -0.9204490184783936, 0.02123124897480011, 0.32411131262779236, 0.5413473844528198, 0.8470343351364136, 1.116644024848938, 0.2638291120529175, 0.5469329357147217, -0.4800737202167511, -0.8007828593254089, -0.029460713267326355, 0.5881748199462891, -1.0660278797149658, 0.1396113932132721, 0.17329102754592896, 0.7320780158042908, -0.3590658903121948, -0.70733642578125, -1.0256309509277344, 0.9948383569717407, -0.8657605648040771, 0.6959241628646851, -0.4245043396949768, 0.1685459017753601, -0.011293470859527588, 0.40348273515701294, 0.3111513555049896, -0.20498399436473846, -0.2675224542617798, 0.7387813329696655, 0.6058057546615601, -0.7467962503433228, 0.13666188716888428, 0.06613624095916748, 0.07388298213481903, -0.5231848955154419, 0.9561644196510315, 0.16556978225708008, -0.7768481969833374, -0.5576399564743042, -0.18473269045352936, -0.7514095306396484, 1.109813928604126, 0.18368808925151825, 0.03546259179711342, 0.49588388204574585, -0.5882369875907898, -1.3112167119979858, 1.2772828340530396, 0.21362203359603882, 1.686870813369751, 0.016052663326263428, -0.03470556437969208, -0.4765816926956177, -0.42857593297958374, -0.7874729633331299, -0.42717987298965454, 0.06735920906066895, -0.875166654586792, 0.32167869806289673, 0.3644660413265228, -0.5099891424179077, 0.4455956816673279, 0.5723903179168701, 0.1722121238708496, -0.17056286334991455, -1.3087592124938965, -0.3577011823654175, 0.6504746675491333, -0.1998187005519867, 2.518664598464966, -0.2839755415916443, 0.4585811495780945, 0.8620852828025818]}\n",
      "{'docText': 'SQLServer Oracle PowerBI'}\n",
      "{'default': [-0.6066989898681641, -0.11420273780822754, -0.4786958694458008, -0.1272512972354889, 0.6032094955444336, 0.13627588748931885, -0.6134929060935974, 0.66975337266922, 0.3695923388004303, -0.07501425594091415, 0.8045865893363953, 0.36979445815086365, -0.876735508441925, -0.41680121421813965, -0.6046175360679626, 0.6796101927757263, -0.5520316958427429, -0.8889114260673523, 0.6644092798233032, -0.12490672618150711, -0.38070449233055115, 0.14626698195934296, -0.09733062982559204, -0.26575323939323425, 0.62711101770401, 0.5513113141059875, -0.013843968510627747, 0.5276116728782654, -0.16436339914798737, 0.6089956760406494, -0.1845840960741043, -0.13831187784671783, 0.21677525341510773, 0.7204745411872864, 0.13264542818069458, 0.197929248213768, 0.10879143327474594, 1.0502067804336548, -0.07832083106040955, 0.40648898482322693, -0.5174849629402161, -0.18277138471603394, -0.19002966582775116, 0.010671734809875488, -0.49443134665489197, 0.08722736686468124, 0.041931211948394775, -0.1568104773759842, 0.014474968425929546, -0.3508693277835846, 0.06271139532327652, 0.23792172968387604, 0.2864915430545807, 0.3691079318523407, -0.3413020670413971, -0.12845775485038757, 0.35714277625083923, -0.49550947546958923, 0.5828048586845398, -0.24607867002487183, -1.2339540719985962, -1.1312071084976196, 0.22005553543567657, -0.9085038304328918, 0.2964889705181122, 0.3073229193687439, -0.08108008652925491, -0.6364144682884216, 0.11451166123151779, -0.2460227757692337, 0.3160180151462555, -0.48304295539855957, 0.16696925461292267, -0.1719980239868164, 0.2236321121454239, -0.2819863557815552, 0.1004374623298645, -0.2258918434381485, -0.011492013931274414, -0.1791866272687912, -0.16120918095111847, -0.4693926274776459, -0.6090662479400635, -0.5972084999084473, 0.4001319110393524, -0.1201881542801857, 0.012407302856445312, 0.18286235630512238, -0.38216254115104675, 1.3269227743148804, -0.15634210407733917, 0.20737142860889435, 1.4939714670181274, 0.2640291452407837, 0.24498791992664337, 1.0542289018630981]}\n",
      "{'docText': 'Tableau Qlikview'}\n",
      "{'default': [-1.0084660053253174, -0.9113717079162598, -0.6962974071502686, 0.4151369631290436, 0.035759419202804565, 0.17993858456611633, 0.21254567801952362, 0.21343450248241425, -0.4626270532608032, 0.6828230619430542, 1.7072572708129883, 1.208481788635254, -0.902626633644104, -0.7261136770248413, -0.4024791419506073, -0.16241197288036346, -0.6992363929748535, -0.8614417314529419, 0.2811257243156433, -0.8043324947357178, -0.40230733156204224, 0.019499823451042175, -0.08284446597099304, -0.4439173638820648, -0.20423176884651184, 0.3303931653499603, 0.8899694085121155, 0.557301938533783, -0.19305233657360077, 0.9298632144927979, -0.43648475408554077, -0.5455489158630371, 0.5159364938735962, 0.5512926578521729, -0.6203365921974182, -0.26771119236946106, -0.27002206444740295, 0.1164691150188446, 0.22731512784957886, -0.5320141315460205, -1.4511590003967285, 0.9313281178474426, -0.8216590881347656, 0.8840833902359009, -0.7536779642105103, -0.37184712290763855, -0.21346008777618408, 0.949609100818634, 0.19236604869365692, 0.4140419661998749, -0.5691986083984375, -0.01859891414642334, 1.3245257139205933, -0.9075839519500732, -0.18385572731494904, -0.7964123487472534, 1.2421026229858398, -0.73717200756073, 1.2799596786499023, 0.11899218708276749, -1.61635422706604, -0.1149127185344696, 0.15566545724868774, -0.7141116261482239, 0.6959490776062012, 0.02815932035446167, -0.5915795564651489, -0.014722049236297607, -0.4572913944721222, -0.022650178521871567, 0.9981052875518799, 0.4325864017009735, 1.2624132633209229, -0.6761990785598755, 0.5787167549133301, -0.04025333374738693, 0.03867112100124359, -0.448777973651886, -0.16856038570404053, -0.2251976728439331, -0.0906175971031189, -0.14040148258209229, 0.04912666976451874, -0.5456582307815552, 0.0736720860004425, 0.2255825698375702, 0.7879886031150818, -0.2189653068780899, -0.9677207469940186, 0.87073814868927, -0.24558348953723907, -1.0135853290557861, 2.453367233276367, 0.6904363036155701, 0.1070663332939148, 0.3586890995502472]}\n",
      "{'docText': 'Databricks Azure Data Factory'}\n",
      "{'default': [-0.6149953603744507, -0.22454962134361267, -0.15897132456302643, 0.5239917635917664, 0.1188034936785698, 0.10389088094234467, 0.11048948019742966, 0.9402844905853271, 0.0034371092915534973, -0.48082754015922546, 0.6257001757621765, 0.6538968682289124, -0.5731021165847778, -1.2376105785369873, -0.5284745097160339, 0.14324718713760376, -0.3472043573856354, -0.6418924331665039, -0.2650834918022156, -0.717490553855896, -0.36218246817588806, -0.33905184268951416, -0.11081784963607788, 0.4654456079006195, 0.36070454120635986, 0.16765958070755005, 0.765153169631958, -0.12985092401504517, -0.015922263264656067, 0.7820436358451843, -0.30423808097839355, -0.42907461524009705, -0.5688915252685547, 0.27049535512924194, -0.6485412120819092, 0.03382536768913269, 0.48523446917533875, -0.16063916683197021, -0.19484436511993408, -0.5433232188224792, -0.8427428007125854, 0.07998298108577728, -0.7691508531570435, 0.7994513511657715, -0.35134750604629517, 0.07387876510620117, 0.004699230194091797, 0.12351273000240326, 0.2458091676235199, -0.09084537625312805, -0.5933065414428711, -0.13624632358551025, 0.7856331467628479, -0.3489499092102051, -1.1880006790161133, 0.016192883253097534, 0.30406278371810913, -0.20374378561973572, 1.035391092300415, 0.08540566265583038, -0.6397987604141235, -0.18312497437000275, -0.22520451247692108, -0.4600106477737427, 0.36692020297050476, -0.12041811645030975, 0.36840373277664185, 0.6406576037406921, -0.31475698947906494, -0.40643417835235596, 0.25469106435775757, 0.564337968826294, 1.650159239768982, -0.8407094478607178, 0.677111029624939, 0.27897772192955017, -0.6288567781448364, -0.24140812456607819, -0.4501428008079529, -0.19618135690689087, 0.09531325846910477, 0.11138106882572174, 0.40318384766578674, -0.3341767191886902, -0.10952683538198471, 0.06122167408466339, -0.05191131681203842, -0.16562296450138092, -0.39801865816116333, 0.52829509973526, 0.23969075083732605, -0.3976011872291565, 1.942382574081421, 0.6914767622947693, -0.4781237542629242, 0.23629619181156158]}\n"
     ]
    }
   ],
   "source": [
    "collection = client.collections.get(\"DocumentSearch\")\n",
    "\n",
    "for item in collection.iterator(\n",
    "    include_vector=True  # If using named vectors, you can specify ones to include e.g. ['title', 'body'], or True to include all\n",
    "):\n",
    "    print(item.properties)\n",
    "    print(item.vector)"
   ]
  },
  {
   "cell_type": "code",
   "execution_count": 87,
   "id": "357602fc",
   "metadata": {},
   "outputs": [
    {
     "name": "stdout",
     "output_type": "stream",
     "text": [
      "Qlikview SnowFlake\n",
      "Distance to query: 0.476\n",
      "\n",
      "Tableau Qlikview\n",
      "Distance to query: 0.547\n",
      "\n",
      "Databricks Azure Data Factory\n",
      "Distance to query: 0.582\n",
      "\n",
      "SQLServer Oracle PowerBI\n",
      "Distance to query: 0.653\n",
      "\n",
      "SQLServer PowerBI Tableau\n",
      "Distance to query: 0.683\n",
      "\n"
     ]
    }
   ],
   "source": [
    "import weaviate.classes.query as wq\n",
    "query_text = \"Databricks\"\n",
    "doc = nlp(query_text)\n",
    "query_vector= list(doc.vector)\n",
    "# Get the collection\n",
    "SkillSet= client.collections.get(\"DocumentSearch\")\n",
    "\n",
    "# Perform query\n",
    "response = SkillSet.query.near_vector(\n",
    "    near_vector=query_vector,  # A list of floating point numbers\n",
    "    limit=5,\n",
    "    return_metadata=wq.MetadataQuery(distance=True),\n",
    ")\n",
    "\n",
    "# Inspect the response\n",
    "for o in response.objects:\n",
    "    print(\n",
    "        o.properties[\"docText\"] \n",
    "    )  \n",
    "    print(\n",
    "        f\"Distance to query: {o.metadata.distance:.3f}\\n\"\n",
    "    )  # P"
   ]
  },
  {
   "cell_type": "code",
   "execution_count": 86,
   "id": "274d5875",
   "metadata": {},
   "outputs": [
    {
     "name": "stdout",
     "output_type": "stream",
     "text": [
      "\n",
      "========================================\n",
      "Hits for: 'DataBricks:'\n",
      "========================================\n",
      ">> 'docText' matches\n",
      "Databricks Azure Data Factory\n"
     ]
    }
   ],
   "source": [
    "import weaviate\n",
    "from weaviate.classes.query import Filter\n",
    "from weaviate.collections import Collection\n",
    "from typing import List\n",
    "\n",
    "# Instantiate your client (not shown). e.g.:\n",
    "# client = weaviate.connect_to_wcs(...) or\n",
    "# client = weaviate.connect_to_local()\n",
    "\n",
    "collection = client.collections.get(\"DocumentSearch\")\n",
    "\n",
    "# Get property names\n",
    "property_names = list()\n",
    "for p in collection.config.get().properties:\n",
    "    property_names.append(p.name)\n",
    "\n",
    "query_strings = [\"DataBricks:\"]\n",
    "\n",
    "\n",
    "def filter_demo(collection: Collection, property_names: List[str], query_strings: List[str]):\n",
    "    from weaviate.classes.query import Filter\n",
    "\n",
    "    for query_string in query_strings:\n",
    "        print(\"\\n\" + \"=\" * 40 + f\"\\nHits for: '{query_string}'\" + \"\\n\" + \"=\" * 40)\n",
    "        for property_name in property_names:\n",
    "            response = collection.query.fetch_objects(\n",
    "                filters=Filter.by_property(property_name).equal(query_string),\n",
    "            )\n",
    "            if len(response.objects) > 0:\n",
    "                print(f\">> '{property_name}' matches\")\n",
    "                for obj in response.objects:\n",
    "                    print(obj.properties[property_name])\n",
    "\n",
    "\n",
    "filter_demo(collection, property_names, query_strings)"
   ]
  },
  {
   "cell_type": "code",
   "execution_count": 91,
   "id": "33f532b6",
   "metadata": {},
   "outputs": [
    {
     "data": {
      "text/plain": [
       "<weaviate.collections.collection.Collection at 0x1896b747dd0>"
      ]
     },
     "execution_count": 91,
     "metadata": {},
     "output_type": "execute_result"
    }
   ],
   "source": [
    "import weaviate.classes.config as wc\n",
    "from weaviate.classes.config import Configure, Property, DataType,VectorDistances\n",
    "client.collections.create(\n",
    "    name=\"DocumentSearch\",\n",
    "    properties=[\n",
    "        wc.Property(name=\"DocText\", data_type=wc.DataType.TEXT),\n",
    "        \n",
    "    ],\n",
    "    # Define the vectorizer module (none, as we will add our own vectors)\n",
    "    vectorizer_config=wc.Configure.Vectorizer.none(),\n",
    "    vector_index_config=Configure.VectorIndex.hnsw( distance_metric=VectorDistances.COSINE),\n",
    ")"
   ]
  },
  {
   "cell_type": "code",
   "execution_count": 92,
   "id": "c629d3b9",
   "metadata": {},
   "outputs": [],
   "source": [
    "documents = [\n",
    "    \"#SQLServer Oracle PowerBI#\",\n",
    "    \"#SQLServer PowerBI Tableau#\",\n",
    "    \"#Tableau Qlikview#\",\n",
    "    \"#Qlikview SnowFlake#\",\n",
    "    \"#Databricks Azure Data Factory#\"\n",
    "     ]\n",
    "DocumentSearch = client.collections.get(\"DocumentSearch\")\n",
    "with DocumentSearch.batch.dynamic() as batch:\n",
    "    for i, doc in enumerate(documents):\n",
    "        properties = {\"DocText\": doc}\n",
    "        nlpdoc = nlp(doc)\n",
    "        vector=nlpdoc.vector\n",
    "        batch.add_object(properties,vector=vector)"
   ]
  },
  {
   "cell_type": "code",
   "execution_count": 95,
   "id": "fc75b013",
   "metadata": {},
   "outputs": [
    {
     "name": "stdout",
     "output_type": "stream",
     "text": [
      "#Tableau Qlikview#\n",
      "Distance to query: 0.211\n",
      "\n",
      "#Qlikview SnowFlake#\n",
      "Distance to query: 0.255\n",
      "\n",
      "#SQLServer PowerBI Tableau#\n",
      "Distance to query: 0.257\n",
      "\n",
      "#SQLServer Oracle PowerBI#\n",
      "Distance to query: 0.258\n",
      "\n",
      "#Databricks Azure Data Factory#\n",
      "Distance to query: 0.442\n",
      "\n"
     ]
    },
    {
     "data": {
      "text/html": [
       "<div>\n",
       "<style scoped>\n",
       "    .dataframe tbody tr th:only-of-type {\n",
       "        vertical-align: middle;\n",
       "    }\n",
       "\n",
       "    .dataframe tbody tr th {\n",
       "        vertical-align: top;\n",
       "    }\n",
       "\n",
       "    .dataframe thead th {\n",
       "        text-align: right;\n",
       "    }\n",
       "</style>\n",
       "<table border=\"1\" class=\"dataframe\">\n",
       "  <thead>\n",
       "    <tr style=\"text-align: right;\">\n",
       "      <th></th>\n",
       "      <th>DocText</th>\n",
       "      <th>VectorDistance</th>\n",
       "    </tr>\n",
       "  </thead>\n",
       "  <tbody>\n",
       "    <tr>\n",
       "      <th>0</th>\n",
       "      <td>#Tableau Qlikview#</td>\n",
       "      <td>{0.21081751585006714}</td>\n",
       "    </tr>\n",
       "    <tr>\n",
       "      <th>1</th>\n",
       "      <td>#Qlikview SnowFlake#</td>\n",
       "      <td>{0.2545745372772217}</td>\n",
       "    </tr>\n",
       "    <tr>\n",
       "      <th>2</th>\n",
       "      <td>#SQLServer PowerBI Tableau#</td>\n",
       "      <td>{0.25669795274734497}</td>\n",
       "    </tr>\n",
       "    <tr>\n",
       "      <th>3</th>\n",
       "      <td>#SQLServer Oracle PowerBI#</td>\n",
       "      <td>{0.25762301683425903}</td>\n",
       "    </tr>\n",
       "    <tr>\n",
       "      <th>4</th>\n",
       "      <td>#Databricks Azure Data Factory#</td>\n",
       "      <td>{0.44215601682662964}</td>\n",
       "    </tr>\n",
       "  </tbody>\n",
       "</table>\n",
       "</div>"
      ],
      "text/plain": [
       "                           DocText         VectorDistance\n",
       "0               #Tableau Qlikview#  {0.21081751585006714}\n",
       "1             #Qlikview SnowFlake#   {0.2545745372772217}\n",
       "2      #SQLServer PowerBI Tableau#  {0.25669795274734497}\n",
       "3       #SQLServer Oracle PowerBI#  {0.25762301683425903}\n",
       "4  #Databricks Azure Data Factory#  {0.44215601682662964}"
      ]
     },
     "metadata": {},
     "output_type": "display_data"
    }
   ],
   "source": [
    "import weaviate.classes.query as wq\n",
    "import pandas as pd\n",
    "query_text = \"#Oracle#\"\n",
    "doc = nlp(query_text)\n",
    "query_vector= list(doc.vector)\n",
    "# Get the collection\n",
    "SkillSet= client.collections.get(\"DocumentSearch\")\n",
    "\n",
    "# Perform query\n",
    "response = SkillSet.query.near_vector(\n",
    "    near_vector=query_vector,  # A list of floating point numbers\n",
    "    limit=5,\n",
    "    return_metadata=wq.MetadataQuery(distance=True),\n",
    ")\n",
    "df = pd.DataFrame(columns=['DocText', 'VectorDistance'])\n",
    "\n",
    "# Inspect the response\n",
    "for o in response.objects:\n",
    "    print(\n",
    "        o.properties[\"docText\"] \n",
    "    )  \n",
    "    print(\n",
    "        f\"Distance to query: {o.metadata.distance:.3f}\\n\"\n",
    "    )  # P\n",
    "    x=str({o.metadata.distance})\n",
    "    df.loc[len(df.index)] = [o.properties[\"docText\"], x] \n",
    "\n",
    "display(df)"
   ]
  },
  {
   "cell_type": "code",
   "execution_count": null,
   "id": "44af4b23",
   "metadata": {},
   "outputs": [],
   "source": [
    "import weaviate.classes.config as wc\n",
    "\n",
    "client.collections.create(\n",
    "    name=\"SkillSet\",\n",
    "    properties=[\n",
    "        wc.Property(name=\"EmployeeId\", data_type=wc.DataType.TEXT),\n",
    "        wc.Property(name=\"Skills\", data_type=wc.DataType.TEXT),\n",
    "       \n",
    "    ],\n",
    "    # Define the vectorizer module (none, as we will add our own vectors)\n",
    "    vectorizer_config=wc.Configure.Vectorizer.none()\n",
    "  \n",
    ")\n"
   ]
  },
  {
   "cell_type": "code",
   "execution_count": null,
   "id": "0a290409",
   "metadata": {},
   "outputs": [],
   "source": [
    "SkillSet = client.collections.get(\"SkillSet\")"
   ]
  },
  {
   "cell_type": "code",
   "execution_count": null,
   "id": "41faf218",
   "metadata": {},
   "outputs": [],
   "source": [
    "from weaviate.util import generate_uuid5\n",
    "import pandas as pd\n",
    "import spacy\n",
    "nlp = spacy.load('en_core_web_sm')\n",
    "\n",
    " \n",
    "# reading csv file \n",
    "df = pd.read_csv(\"F:\\\\TechManagement\\\\weviate\\\\Skills.txt\")\n",
    "df=df.astype(str)\n",
    "SkillSet = client.collections.get(\"SkillSet\")\n",
    "for index, row in df.iterrows():\n",
    "    with SkillSet.batch.dynamic() as batch:\n",
    " \n",
    "        doc = nlp(row['SkillSet'])\n",
    "        vec = doc.vector\n",
    "        SkillSet_obj = {\n",
    "            \"employeeId\": str(row['EmpId']),\n",
    "            \"skills\": str(row['SkillSet']),\n",
    "        }\n",
    "        batch.add_object(\n",
    "            properties=SkillSet_obj,\n",
    "            vector=vec  # Add the custom vector\n",
    "            # references=reference_obj  # You can add references here\n",
    "        )\n",
    "if len(SkillSet.batch.failed_objects) > 0:\n",
    "    print(f\"Failed to import {len(SkillSet.batch.failed_objects)} objects\")\n",
    "        \n"
   ]
  },
  {
   "cell_type": "code",
   "execution_count": null,
   "id": "14d4b48d",
   "metadata": {},
   "outputs": [],
   "source": [
    "collection = client.collections.get(\"SkillSet\")\n",
    "\n",
    "for item in collection.iterator(\n",
    "    include_vector=True  # If using named vectors, you can specify ones to include e.g. ['title', 'body'], or True to include all\n",
    "):\n",
    "    print(item.properties)\n",
    "    print(item.vector)"
   ]
  },
  {
   "cell_type": "code",
   "execution_count": 9,
   "id": "5067bab3",
   "metadata": {},
   "outputs": [
    {
     "data": {
      "text/plain": [
       "<weaviate.collections.collection.Collection at 0x18966845410>"
      ]
     },
     "execution_count": 9,
     "metadata": {},
     "output_type": "execute_result"
    }
   ],
   "source": [
    "import weaviate.classes.config as wc\n",
    "from weaviate.classes.config import Configure, Property, DataType\n",
    "client.collections.create(\n",
    "    name=\"NameSearch\",\n",
    "    properties=[\n",
    "        wc.Property(name=\"PersonName\", data_type=wc.DataType.TEXT),\n",
    "        \n",
    "    ],\n",
    "    # Define the vectorizer module (none, as we will add our own vectors)\n",
    "    vectorizer_config=wc.Configure.Vectorizer.none(),\n",
    "    vector_index_config=Configure.VectorIndex.hnsw(),\n",
    ")"
   ]
  },
  {
   "cell_type": "code",
   "execution_count": 19,
   "id": "a4a989e3",
   "metadata": {},
   "outputs": [
    {
     "name": "stdout",
     "output_type": "stream",
     "text": [
      "Paula Merritt\n",
      "553.3135850429535\n"
     ]
    }
   ],
   "source": [
    "from faker import Faker  \n",
    "import spacy\n",
    "nlp = spacy.load('en_core_web_sm')\n",
    "import time\n",
    "\n",
    "t0 = time.time()\n",
    "\n",
    "fake = Faker()  \n",
    "DocumentSearch = client.collections.get(\"NameSearch\")\n",
    "with DocumentSearch.batch.dynamic() as batch:\n",
    "    for i in range(0, 100000): \n",
    "        fakename =fake.name()\n",
    "        if (i==1):\n",
    "            print(fakename)  \n",
    "        properties = {\"personName\": fakename}\n",
    "        nlpdoc = nlp(fakename)\n",
    "        vector=nlpdoc.vector\n",
    "        batch.add_object(properties,vector=vector)\n",
    "t1 = time.time()\n",
    "total = t1-t0\n",
    "print(total)  "
   ]
  },
  {
   "cell_type": "code",
   "execution_count": 81,
   "id": "49c18e49",
   "metadata": {},
   "outputs": [
    {
     "name": "stdout",
     "output_type": "stream",
     "text": [
      "Paula Hines\n",
      "Distance to query: 0.100\n",
      "\n",
      "Paula Stevens\n",
      "Distance to query: 0.101\n",
      "\n",
      "Paula Stein\n",
      "Distance to query: 0.114\n",
      "\n",
      "Paula Merritt\n",
      "Distance to query: 0.131\n",
      "\n",
      "Paula Welch\n",
      "Distance to query: 0.132\n",
      "\n",
      "Time Taken\n",
      "0.6708846092224121\n"
     ]
    }
   ],
   "source": [
    "import weaviate.classes.query as wq\n",
    "query_text = \"Paula Meritt\"\n",
    "import time\n",
    "doc = nlp(query_text)\n",
    "query_vector= list(doc.vector)\n",
    "# Get the collection\n",
    "SkillSet= client.collections.get(\"NameSearch\")\n",
    "\n",
    "\n",
    "t0 = time.time()\n",
    "# Perform query\n",
    "response = SkillSet.query.near_vector(\n",
    "    near_vector=query_vector,  # A list of floating point numbers\n",
    "    limit=5,\n",
    "    return_metadata=wq.MetadataQuery(distance=True),\n",
    ")\n",
    "\n",
    "# Inspect the response\n",
    "for o in response.objects:\n",
    "    print(\n",
    "        o.properties[\"personName\"] \n",
    "    )  \n",
    "    print(\n",
    "        f\"Distance to query: {o.metadata.distance:.3f}\\n\"\n",
    "    )  # P\n",
    "t1 = time.time()\n",
    "total = t1-t0\n",
    "print('Time Taken')\n",
    "print(total)  "
   ]
  },
  {
   "cell_type": "code",
   "execution_count": 18,
   "id": "97c8f2c2",
   "metadata": {},
   "outputs": [
    {
     "data": {
      "text/plain": [
       "<weaviate.collections.collection.Collection at 0x18962da8550>"
      ]
     },
     "execution_count": 18,
     "metadata": {},
     "output_type": "execute_result"
    }
   ],
   "source": [
    "import weaviate.classes.config as wc\n",
    "from weaviate.classes.config import Configure, Property, DataType\n",
    "client.collections.create(\n",
    "    name=\"NameSearch\",\n",
    "    properties=[\n",
    "        wc.Property(name=\"PersonName\", data_type=wc.DataType.TEXT),\n",
    "        \n",
    "    ],\n",
    "    # Define the vectorizer module (none, as we will add our own vectors)\n",
    "    vectorizer_config=wc.Configure.Vectorizer.none(),\n",
    "    vector_index_config=Configure.VectorIndex.hnsw(),\n",
    ")"
   ]
  },
  {
   "cell_type": "code",
   "execution_count": 79,
   "id": "36a0c548",
   "metadata": {},
   "outputs": [
    {
     "name": "stdout",
     "output_type": "stream",
     "text": [
      "Paula Thompson\n",
      "Distance to query: 0.070\n",
      "\n",
      "Paula Mcdonald\n",
      "Distance to query: 0.070\n",
      "\n",
      "Paula Howell\n",
      "Distance to query: 0.070\n",
      "\n",
      "Paula Whitney\n",
      "Distance to query: 0.077\n",
      "\n",
      "Paula Boyle\n",
      "Distance to query: 0.077\n",
      "\n",
      "Paula Soto\n",
      "Distance to query: 0.080\n",
      "\n",
      "Paula Guzman\n",
      "Distance to query: 0.088\n",
      "\n",
      "Paula Ball\n",
      "Distance to query: 0.088\n",
      "\n",
      "Paula Kelley\n",
      "Distance to query: 0.089\n",
      "\n",
      "Paula Lambert\n",
      "Distance to query: 0.089\n",
      "\n",
      "Paula Barton\n",
      "Distance to query: 0.089\n",
      "\n",
      "Paula Frank\n",
      "Distance to query: 0.090\n",
      "\n",
      "Anne Wall\n",
      "Distance to query: 0.092\n",
      "\n",
      "Anne Thompson\n",
      "Distance to query: 0.092\n",
      "\n",
      "Paula Bonilla\n",
      "Distance to query: 0.092\n",
      "\n",
      "Matthew Lee\n",
      "Distance to query: 0.093\n",
      "\n",
      "Matthew Lee\n",
      "Distance to query: 0.093\n",
      "\n",
      "Paula Horton\n",
      "Distance to query: 0.093\n",
      "\n",
      "Matthew Riley\n",
      "Distance to query: 0.094\n",
      "\n",
      "Pamela Thompson\n",
      "Distance to query: 0.094\n",
      "\n",
      "Rickey Rice\n",
      "Distance to query: 0.094\n",
      "\n",
      "Paula Wilson\n",
      "Distance to query: 0.096\n",
      "\n",
      "Paula Wilson\n",
      "Distance to query: 0.096\n",
      "\n",
      "Paula Green\n",
      "Distance to query: 0.096\n",
      "\n",
      "Paula Green\n",
      "Distance to query: 0.096\n",
      "\n",
      "Paula Payne\n",
      "Distance to query: 0.097\n",
      "\n",
      "Paula Wood\n",
      "Distance to query: 0.097\n",
      "\n",
      "Nicole Rice\n",
      "Distance to query: 0.097\n",
      "\n",
      "Joanne Ray\n",
      "Distance to query: 0.098\n",
      "\n",
      "Matthew Reid\n",
      "Distance to query: 0.098\n",
      "\n",
      "Time Taken\n",
      "0.1576402187347412\n"
     ]
    }
   ],
   "source": [
    "import weaviate.classes.query as wq\n",
    "query_text = \"Paula Merrit\"\n",
    "import time\n",
    "doc = nlp(query_text)\n",
    "query_vector= list(doc.vector)\n",
    "# Get the collection\n",
    "SkillSet= client.collections.get(\"NameSearch\")\n",
    "\n",
    "\n",
    "t0 = time.time()\n",
    "# Perform query\n",
    "response = SkillSet.query.near_vector(\n",
    "    near_vector=query_vector,  # A list of floating point numbers\n",
    "    limit=30,\n",
    "    return_metadata=wq.MetadataQuery(distance=True),\n",
    ")\n",
    "\n",
    "# Inspect the response\n",
    "for o in response.objects:\n",
    "    print(\n",
    "        o.properties[\"personName\"] \n",
    "    )  \n",
    "    print(\n",
    "        f\"Distance to query: {o.metadata.distance:.3f}\\n\"\n",
    "    )  # P\n",
    "t1 = time.time()\n",
    "total = t1-t0\n",
    "print('Time Taken')\n",
    "print(total)  "
   ]
  },
  {
   "cell_type": "code",
   "execution_count": 77,
   "id": "04136a59",
   "metadata": {},
   "outputs": [
    {
     "name": "stdout",
     "output_type": "stream",
     "text": [
      "\n",
      "========================================\n",
      "Hits for: 'Paula Merritt:'\n",
      "========================================\n",
      ">> 'personName' matches\n",
      "Paula Merritt\n",
      "Time Taken\n",
      "0.6340579986572266\n"
     ]
    }
   ],
   "source": [
    "import weaviate\n",
    "from weaviate.classes.query import Filter\n",
    "from weaviate.collections import Collection\n",
    "from typing import List\n",
    "import time\n",
    "\n",
    "# Instantiate your client (not shown). e.g.:\n",
    "# client = weaviate.connect_to_wcs(...) or\n",
    "# client = weaviate.connect_to_local()\n",
    "\n",
    "collection = client.collections.get(\"NameSearch\")\n",
    "\n",
    "# Get property names\n",
    "property_names = list()\n",
    "for p in collection.config.get().properties:\n",
    "    property_names.append(p.name)\n",
    "\n",
    "query_strings = [\"Paula Merritt:\"]\n",
    "\n",
    "\n",
    "def filter_demo(collection: Collection, property_names: List[str], query_strings: List[str]):\n",
    "    from weaviate.classes.query import Filter\n",
    "\n",
    "    for query_string in query_strings:\n",
    "        print(\"\\n\" + \"=\" * 40 + f\"\\nHits for: '{query_string}'\" + \"\\n\" + \"=\" * 40)\n",
    "        for property_name in property_names:\n",
    "            response = collection.query.fetch_objects(\n",
    "                filters=Filter.by_property(property_name).equal(query_string),\n",
    "            )\n",
    "            if len(response.objects) > 0:\n",
    "                print(f\">> '{property_name}' matches\")\n",
    "                for obj in response.objects:\n",
    "                    print(obj.properties[property_name])\n",
    "\n",
    "t0 = time.time()\n",
    "filter_demo(collection, property_names, query_strings)\n",
    "t1 = time.time()\n",
    "total = t1-t0\n",
    "print('Time Taken')\n",
    "print(total)  "
   ]
  },
  {
   "cell_type": "code",
   "execution_count": null,
   "id": "5d2cd1c9",
   "metadata": {},
   "outputs": [],
   "source": []
  }
 ],
 "metadata": {
  "kernelspec": {
   "display_name": "Python 3 (ipykernel)",
   "language": "python",
   "name": "python3"
  },
  "language_info": {
   "codemirror_mode": {
    "name": "ipython",
    "version": 3
   },
   "file_extension": ".py",
   "mimetype": "text/x-python",
   "name": "python",
   "nbconvert_exporter": "python",
   "pygments_lexer": "ipython3",
   "version": "3.11.5"
  }
 },
 "nbformat": 4,
 "nbformat_minor": 5
}
