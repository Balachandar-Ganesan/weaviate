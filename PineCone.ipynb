{
 "cells": [
  {
   "cell_type": "code",
   "execution_count": 2,
   "id": "e08e9f94",
   "metadata": {},
   "outputs": [
    {
     "name": "stdout",
     "output_type": "stream",
     "text": [
      "Defaulting to user installation because normal site-packages is not writeable\n",
      "Collecting pinecone-client[grpc]\n",
      "  Obtaining dependency information for pinecone-client[grpc] from https://files.pythonhosted.org/packages/5e/19/14059836d1774e4cd4da42c3f93562a0f6089dd8360fa6084af413cb0eb6/pinecone_client-4.1.1-py3-none-any.whl.metadata\n",
      "  Using cached pinecone_client-4.1.1-py3-none-any.whl.metadata (16 kB)\n",
      "Requirement already satisfied: certifi>=2019.11.17 in c:\\programdata\\anaconda3\\lib\\site-packages (from pinecone-client[grpc]) (2023.7.22)\n",
      "Requirement already satisfied: googleapis-common-protos>=1.53.0 in c:\\users\\admin\\appdata\\roaming\\python\\python311\\site-packages (from pinecone-client[grpc]) (1.63.1)\n",
      "Requirement already satisfied: grpcio>=1.59.0 in c:\\users\\admin\\appdata\\roaming\\python\\python311\\site-packages (from pinecone-client[grpc]) (1.60.1)\n",
      "Requirement already satisfied: lz4>=3.1.3 in c:\\programdata\\anaconda3\\lib\\site-packages (from pinecone-client[grpc]) (4.3.2)\n",
      "Collecting pinecone-plugin-interface<0.0.8,>=0.0.7 (from pinecone-client[grpc])\n",
      "  Obtaining dependency information for pinecone-plugin-interface<0.0.8,>=0.0.7 from https://files.pythonhosted.org/packages/3b/1d/a21fdfcd6d022cb64cef5c2a29ee6691c6c103c4566b41646b080b7536a5/pinecone_plugin_interface-0.0.7-py3-none-any.whl.metadata\n",
      "  Using cached pinecone_plugin_interface-0.0.7-py3-none-any.whl.metadata (1.2 kB)\n",
      "Requirement already satisfied: protobuf<5.0,>=4.25 in c:\\users\\admin\\appdata\\roaming\\python\\python311\\site-packages (from pinecone-client[grpc]) (4.25.3)\n",
      "Collecting protoc-gen-openapiv2<0.0.2,>=0.0.1 (from pinecone-client[grpc])\n",
      "  Obtaining dependency information for protoc-gen-openapiv2<0.0.2,>=0.0.1 from https://files.pythonhosted.org/packages/2d/ac/bd8961859d8f3f81530465d2ce9b165627e961c00348939009bac2700cc6/protoc_gen_openapiv2-0.0.1-py3-none-any.whl.metadata\n",
      "  Using cached protoc_gen_openapiv2-0.0.1-py3-none-any.whl.metadata (1.5 kB)\n",
      "Requirement already satisfied: tqdm>=4.64.1 in c:\\programdata\\anaconda3\\lib\\site-packages (from pinecone-client[grpc]) (4.65.0)\n",
      "Requirement already satisfied: typing-extensions>=3.7.4 in c:\\users\\admin\\appdata\\roaming\\python\\python311\\site-packages (from pinecone-client[grpc]) (4.9.0)\n",
      "Requirement already satisfied: urllib3>=1.26.0 in c:\\programdata\\anaconda3\\lib\\site-packages (from pinecone-client[grpc]) (1.26.16)\n",
      "Requirement already satisfied: colorama in c:\\programdata\\anaconda3\\lib\\site-packages (from tqdm>=4.64.1->pinecone-client[grpc]) (0.4.6)\n",
      "Using cached pinecone_plugin_interface-0.0.7-py3-none-any.whl (6.2 kB)\n",
      "Using cached protoc_gen_openapiv2-0.0.1-py3-none-any.whl (7.9 kB)\n",
      "Using cached pinecone_client-4.1.1-py3-none-any.whl (216 kB)\n",
      "Installing collected packages: pinecone-plugin-interface, protoc-gen-openapiv2, pinecone-client\n",
      "Successfully installed pinecone-client-4.1.1 pinecone-plugin-interface-0.0.7 protoc-gen-openapiv2-0.0.1\n",
      "Note: you may need to restart the kernel to use updated packages.\n"
     ]
    }
   ],
   "source": [
    "pip install pinecone-client[grpc]"
   ]
  },
  {
   "cell_type": "code",
   "execution_count": 42,
   "id": "feed4f49",
   "metadata": {},
   "outputs": [],
   "source": [
    "from pinecone.grpc import PineconeGRPC as Pinecone\n",
    "from pinecone import ServerlessSpec\n",
    "\n",
    "pc = Pinecone(api_key='')\n",
    "\n",
    "\n"
   ]
  },
  {
   "cell_type": "code",
   "execution_count": 43,
   "id": "fce2881b",
   "metadata": {},
   "outputs": [],
   "source": [
    "index_name = \"docs-quickstart-index\"\n",
    "\n",
    "if index_name not in pc.list_indexes().names():\n",
    "    pc.create_index(\n",
    "        name=index_name,\n",
    "        dimension=2,\n",
    "        metric=\"cosine\",\n",
    "        spec=ServerlessSpec(\n",
    "            cloud='aws', \n",
    "            region='us-east-1'\n",
    "        ) \n",
    "    )"
   ]
  },
  {
   "cell_type": "code",
   "execution_count": 44,
   "id": "9f4e2c58",
   "metadata": {},
   "outputs": [
    {
     "data": {
      "text/plain": [
       "upserted_count: 3"
      ]
     },
     "execution_count": 44,
     "metadata": {},
     "output_type": "execute_result"
    }
   ],
   "source": [
    "index = pc.Index(index_name)\n",
    "\n",
    "index.upsert(\n",
    "    vectors=[\n",
    "        {\"id\": \"vec1\", \"values\": [1.0, 1.5]},\n",
    "        {\"id\": \"vec2\", \"values\": [2.0, 1.0]},\n",
    "        {\"id\": \"vec3\", \"values\": [0.1, 3.0]},\n",
    "    ],\n",
    "    namespace=\"ns1\"\n",
    ")\n",
    "\n",
    "index.upsert(\n",
    "    vectors=[\n",
    "        {\"id\": \"vec1\", \"values\": [1.0, -2.5]},\n",
    "        {\"id\": \"vec2\", \"values\": [3.0, -2.0]},\n",
    "        {\"id\": \"vec3\", \"values\": [0.5, -1.5]},\n",
    "    ],\n",
    "    namespace=\"ns2\"\n",
    ")"
   ]
  },
  {
   "cell_type": "code",
   "execution_count": 45,
   "id": "b0b817c8",
   "metadata": {},
   "outputs": [
    {
     "name": "stdout",
     "output_type": "stream",
     "text": [
      "266.10560369491577\n",
      "{'dimension': 2,\n",
      " 'index_fullness': 0.0,\n",
      " 'namespaces': {'ns1': {'vector_count': 3}, 'ns2': {'vector_count': 20884}},\n",
      " 'total_vector_count': 20887}\n"
     ]
    }
   ],
   "source": [
    "index = pc.Index(index_name)\n",
    "from faker import Faker \n",
    "import spacy\n",
    "nlp = spacy.load('en_core_web_sm')\n",
    "import time\n",
    "\n",
    "t0 = time.time()\n",
    "fake = Faker() \n",
    "for i in range(0, 1000):  \n",
    "            fakename =fake.name()\n",
    "            nlpdoc = nlp(fakename)\n",
    "            vector=list(nlpdoc.vector)\n",
    "            index.upsert(vectors=[{\"id\": fakename, \"values\": [i, -2.5]},  ],\n",
    "    namespace=\"ns2\"\n",
    ")\n",
    "t1 = time.time()\n",
    "total = t1-t0\n",
    "print(total)  \n",
    "print(index.describe_index_stats())"
   ]
  },
  {
   "cell_type": "code",
   "execution_count": null,
   "id": "804fcfa5",
   "metadata": {},
   "outputs": [],
   "source": []
  }
 ],
 "metadata": {
  "kernelspec": {
   "display_name": "Python 3 (ipykernel)",
   "language": "python",
   "name": "python3"
  },
  "language_info": {
   "codemirror_mode": {
    "name": "ipython",
    "version": 3
   },
   "file_extension": ".py",
   "mimetype": "text/x-python",
   "name": "python",
   "nbconvert_exporter": "python",
   "pygments_lexer": "ipython3",
   "version": "3.11.5"
  }
 },
 "nbformat": 4,
 "nbformat_minor": 5
}
