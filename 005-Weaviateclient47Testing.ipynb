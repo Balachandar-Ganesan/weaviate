{
 "cells": [
  {
   "cell_type": "code",
   "execution_count": 3,
   "id": "71cd4baf",
   "metadata": {},
   "outputs": [
    {
     "name": "stdout",
     "output_type": "stream",
     "text": [
      "Defaulting to user installation because normal site-packages is not writeable\n",
      "Collecting weaviate-client==4.7.0rc0\n",
      "  Obtaining dependency information for weaviate-client==4.7.0rc0 from https://files.pythonhosted.org/packages/3a/22/139efcb8c311d7e05766e926107cfb3ec0530b6242cfdb8a387961b46968/weaviate_client-4.7.0rc0-py3-none-any.whl.metadata\n",
      "  Using cached weaviate_client-4.7.0rc0-py3-none-any.whl.metadata (3.3 kB)\n",
      "Requirement already satisfied: requests<3.0.0,>=2.30.0 in c:\\programdata\\anaconda3\\lib\\site-packages (from weaviate-client==4.7.0rc0) (2.31.0)\n",
      "Requirement already satisfied: httpx<=0.27.0,>=0.25.0 in c:\\users\\admin\\appdata\\roaming\\python\\python311\\site-packages (from weaviate-client==4.7.0rc0) (0.26.0)\n",
      "Requirement already satisfied: validators==0.28.3 in c:\\users\\admin\\appdata\\roaming\\python\\python311\\site-packages (from weaviate-client==4.7.0rc0) (0.28.3)\n",
      "Requirement already satisfied: authlib<2.0.0,>=1.2.1 in c:\\users\\admin\\appdata\\roaming\\python\\python311\\site-packages (from weaviate-client==4.7.0rc0) (1.3.0)\n",
      "Requirement already satisfied: pydantic<3.0.0,>=2.5.0 in c:\\users\\admin\\appdata\\roaming\\python\\python311\\site-packages (from weaviate-client==4.7.0rc0) (2.7.2)\n",
      "Requirement already satisfied: grpcio<2.0.0,>=1.57.0 in c:\\users\\admin\\appdata\\roaming\\python\\python311\\site-packages (from weaviate-client==4.7.0rc0) (1.64.1)\n",
      "Requirement already satisfied: grpcio-tools<2.0.0,>=1.57.0 in c:\\users\\admin\\appdata\\roaming\\python\\python311\\site-packages (from weaviate-client==4.7.0rc0) (1.64.0)\n",
      "Requirement already satisfied: grpcio-health-checking<2.0.0,>=1.57.0 in c:\\users\\admin\\appdata\\roaming\\python\\python311\\site-packages (from weaviate-client==4.7.0rc0) (1.64.0)\n",
      "Requirement already satisfied: cryptography in c:\\programdata\\anaconda3\\lib\\site-packages (from authlib<2.0.0,>=1.2.1->weaviate-client==4.7.0rc0) (41.0.3)\n",
      "Requirement already satisfied: protobuf<6.0dev,>=5.26.1 in c:\\users\\admin\\appdata\\roaming\\python\\python311\\site-packages (from grpcio-health-checking<2.0.0,>=1.57.0->weaviate-client==4.7.0rc0) (5.27.2)\n",
      "Requirement already satisfied: setuptools in c:\\programdata\\anaconda3\\lib\\site-packages (from grpcio-tools<2.0.0,>=1.57.0->weaviate-client==4.7.0rc0) (68.0.0)\n",
      "Requirement already satisfied: anyio in c:\\programdata\\anaconda3\\lib\\site-packages (from httpx<=0.27.0,>=0.25.0->weaviate-client==4.7.0rc0) (3.5.0)\n",
      "Requirement already satisfied: certifi in c:\\programdata\\anaconda3\\lib\\site-packages (from httpx<=0.27.0,>=0.25.0->weaviate-client==4.7.0rc0) (2023.7.22)\n",
      "Requirement already satisfied: httpcore==1.* in c:\\users\\admin\\appdata\\roaming\\python\\python311\\site-packages (from httpx<=0.27.0,>=0.25.0->weaviate-client==4.7.0rc0) (1.0.2)\n",
      "Requirement already satisfied: idna in c:\\programdata\\anaconda3\\lib\\site-packages (from httpx<=0.27.0,>=0.25.0->weaviate-client==4.7.0rc0) (3.4)\n",
      "Requirement already satisfied: sniffio in c:\\programdata\\anaconda3\\lib\\site-packages (from httpx<=0.27.0,>=0.25.0->weaviate-client==4.7.0rc0) (1.2.0)\n",
      "Requirement already satisfied: h11<0.15,>=0.13 in c:\\users\\admin\\appdata\\roaming\\python\\python311\\site-packages (from httpcore==1.*->httpx<=0.27.0,>=0.25.0->weaviate-client==4.7.0rc0) (0.14.0)\n",
      "Requirement already satisfied: annotated-types>=0.4.0 in c:\\users\\admin\\appdata\\roaming\\python\\python311\\site-packages (from pydantic<3.0.0,>=2.5.0->weaviate-client==4.7.0rc0) (0.7.0)\n",
      "Requirement already satisfied: pydantic-core==2.18.3 in c:\\users\\admin\\appdata\\roaming\\python\\python311\\site-packages (from pydantic<3.0.0,>=2.5.0->weaviate-client==4.7.0rc0) (2.18.3)\n",
      "Requirement already satisfied: typing-extensions>=4.6.1 in c:\\users\\admin\\appdata\\roaming\\python\\python311\\site-packages (from pydantic<3.0.0,>=2.5.0->weaviate-client==4.7.0rc0) (4.9.0)\n",
      "Requirement already satisfied: charset-normalizer<4,>=2 in c:\\programdata\\anaconda3\\lib\\site-packages (from requests<3.0.0,>=2.30.0->weaviate-client==4.7.0rc0) (2.0.4)\n",
      "Requirement already satisfied: urllib3<3,>=1.21.1 in c:\\programdata\\anaconda3\\lib\\site-packages (from requests<3.0.0,>=2.30.0->weaviate-client==4.7.0rc0) (1.26.16)\n",
      "Requirement already satisfied: cffi>=1.12 in c:\\programdata\\anaconda3\\lib\\site-packages (from cryptography->authlib<2.0.0,>=1.2.1->weaviate-client==4.7.0rc0) (1.15.1)\n",
      "Requirement already satisfied: pycparser in c:\\programdata\\anaconda3\\lib\\site-packages (from cffi>=1.12->cryptography->authlib<2.0.0,>=1.2.1->weaviate-client==4.7.0rc0) (2.21)\n",
      "Using cached weaviate_client-4.7.0rc0-py3-none-any.whl (365 kB)\n",
      "Installing collected packages: weaviate-client\n",
      "  Attempting uninstall: weaviate-client\n",
      "    Found existing installation: weaviate-client 4.6.3\n",
      "    Uninstalling weaviate-client-4.6.3:\n",
      "      Successfully uninstalled weaviate-client-4.6.3\n",
      "Successfully installed weaviate-client-4.7.0rc0\n"
     ]
    }
   ],
   "source": [
    "!pip install weaviate-client==4.7.0rc0"
   ]
  },
  {
   "cell_type": "code",
   "execution_count": 4,
   "id": "8713d44a",
   "metadata": {},
   "outputs": [],
   "source": [
    "import weaviate\n",
    "import weaviate.classes as wvc\n",
    "import requests\n",
    "import json"
   ]
  },
  {
   "cell_type": "code",
   "execution_count": 5,
   "id": "bdc77c43",
   "metadata": {},
   "outputs": [],
   "source": [
    "client = weaviate.connect_to_wcs(\n",
    "    cluster_url=\"\",\n",
    "    auth_credentials=weaviate.auth.AuthApiKey(\"\")\n",
    "    \n",
    ")"
   ]
  },
  {
   "cell_type": "code",
   "execution_count": 7,
   "id": "7e376ffb",
   "metadata": {},
   "outputs": [
    {
     "data": {
      "text/plain": [
       "True"
      ]
     },
     "execution_count": 7,
     "metadata": {},
     "output_type": "execute_result"
    }
   ],
   "source": [
    "\n",
    "#await client.is_ready()\n",
    "client.is_ready()"
   ]
  },
  {
   "cell_type": "code",
   "execution_count": 8,
   "id": "4e7216b8",
   "metadata": {},
   "outputs": [
    {
     "data": {
      "text/plain": [
       "<weaviate.collections.collection.sync.Collection at 0x208db9d12d0>"
      ]
     },
     "execution_count": 8,
     "metadata": {},
     "output_type": "execute_result"
    }
   ],
   "source": [
    "import weaviate.classes.config as wc\n",
    "from weaviate.classes.config import Configure, Property, DataType\n",
    "client.collections.create(\n",
    "    name=\"NameSearch\",\n",
    "    properties=[\n",
    "        wc.Property(name=\"PersonName\", data_type=wc.DataType.TEXT),\n",
    "        \n",
    "    ],\n",
    "    # Define the vectorizer module (none, as we will add our own vectors)\n",
    "    vectorizer_config=wc.Configure.Vectorizer.none(),\n",
    "    vector_index_config=Configure.VectorIndex.hnsw(),\n",
    ")"
   ]
  },
  {
   "cell_type": "code",
   "execution_count": 9,
   "id": "c0ce6e62",
   "metadata": {},
   "outputs": [],
   "source": [
    "def VectorElement(word):\n",
    "    ListAlphabets = ['A','B','C','D','E','F','G','H','I','J','K','L','M','N','O','P','Q','R','S','T','U','V','W','X','Y','Z']\n",
    "    ListVectors=[0,0,0,0,0,0,0,0,0,0,0,0,0,0,0,0,0,0,0,0,0,0,0,0,0,0]\n",
    "    count = 0\n",
    "    while count < 26:\n",
    "        ListVectors[count]= sum(1 for element in word if element.lower()==ListAlphabets[count].lower())\n",
    "        count =count+1\n",
    "    return ListVectors"
   ]
  },
  {
   "cell_type": "code",
   "execution_count": 11,
   "id": "69a1f048",
   "metadata": {},
   "outputs": [
    {
     "name": "stdout",
     "output_type": "stream",
     "text": [
      "John Garza\n",
      "67.610600233078\n"
     ]
    }
   ],
   "source": [
    "from faker import Faker  \n",
    "import time\n",
    "\n",
    "t0 = time.time()\n",
    "\n",
    "fake = Faker()  \n",
    "DocumentSearch = client.collections.get(\"NameSearch\")\n",
    "with DocumentSearch.batch.dynamic() as batch:\n",
    "    for i in range(0, 100000): \n",
    "        fakename =fake.name()\n",
    "        if (i==1):\n",
    "            print(fakename)  \n",
    "        properties = {\"personName\": fakename}\n",
    "        vector=VectorElement(fakename)\n",
    "        #await batch.add_object(properties,vector=vector)\n",
    "        batch.add_object(properties,vector=vector)\n",
    "t1 = time.time()\n",
    "total = t1-t0\n",
    "print(total)  "
   ]
  },
  {
   "cell_type": "code",
   "execution_count": null,
   "id": "cbe5c784",
   "metadata": {},
   "outputs": [],
   "source": []
  }
 ],
 "metadata": {
  "kernelspec": {
   "display_name": "Python 3 (ipykernel)",
   "language": "python",
   "name": "python3"
  },
  "language_info": {
   "codemirror_mode": {
    "name": "ipython",
    "version": 3
   },
   "file_extension": ".py",
   "mimetype": "text/x-python",
   "name": "python",
   "nbconvert_exporter": "python",
   "pygments_lexer": "ipython3",
   "version": "3.11.5"
  }
 },
 "nbformat": 4,
 "nbformat_minor": 5
}
